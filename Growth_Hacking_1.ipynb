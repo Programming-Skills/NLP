{
 "cells": [
  {
   "cell_type": "code",
   "execution_count": 1,
   "metadata": {},
   "outputs": [
    {
     "name": "stderr",
     "output_type": "stream",
     "text": [
      "[nltk_data] Downloading package opinion_lexicon to\n",
      "[nltk_data]     C:\\Users\\hewin\\AppData\\Roaming\\nltk_data...\n",
      "[nltk_data]   Package opinion_lexicon is already up-to-date!\n",
      "[nltk_data] Downloading package stopwords to\n",
      "[nltk_data]     C:\\Users\\hewin\\AppData\\Roaming\\nltk_data...\n",
      "[nltk_data]   Package stopwords is already up-to-date!\n",
      "[nltk_data] Downloading package punkt to\n",
      "[nltk_data]     C:\\Users\\hewin\\AppData\\Roaming\\nltk_data...\n",
      "[nltk_data]   Package punkt is already up-to-date!\n",
      "[nltk_data] Downloading package averaged_perceptron_tagger to\n",
      "[nltk_data]     C:\\Users\\hewin\\AppData\\Roaming\\nltk_data...\n",
      "[nltk_data]   Package averaged_perceptron_tagger is already up-to-\n",
      "[nltk_data]       date!\n"
     ]
    }
   ],
   "source": [
    "# libraries\n",
    "import ndjson\n",
    "import json\n",
    "import pandas as pd\n",
    "import numpy as np\n",
    "import altair as alt\n",
    "import gzip\n",
    "import random\n",
    "import csv\n",
    "import re\n",
    "\n",
    "import matplotlib.pyplot as plt\n",
    "import seaborn as sns\n",
    "from pywaffle import Waffle\n",
    "\n",
    "import nltk\n",
    "from nltk.tokenize import word_tokenize\n",
    "from nltk.corpus import stopwords\n",
    "nltk.download(\"opinion_lexicon\")\n",
    "nltk.download(\"stopwords\")\n",
    "nltk.download(\"punkt\")\n",
    "nltk.download('averaged_perceptron_tagger')\n",
    "from nltk.corpus import opinion_lexicon\n",
    "\n",
    "from vaderSentiment.vaderSentiment import SentimentIntensityAnalyzer\n",
    "sa = SentimentIntensityAnalyzer()\n",
    "sa.lexicon\n",
    "\n",
    "from imblearn.under_sampling import RandomUnderSampler \n",
    "\n",
    "%matplotlib inline"
   ]
  },
  {
   "cell_type": "code",
   "execution_count": 2,
   "metadata": {},
   "outputs": [],
   "source": [
    "# opening gzipped NDJSON file\n",
    "with gzip.open(\"Video_Games_5.json.gz\", \"rb\") as f:\n",
    "    data = ndjson.load(f)"
   ]
  },
  {
   "cell_type": "code",
   "execution_count": 3,
   "metadata": {},
   "outputs": [
    {
     "data": {
      "text/html": [
       "<div>\n",
       "<style scoped>\n",
       "    .dataframe tbody tr th:only-of-type {\n",
       "        vertical-align: middle;\n",
       "    }\n",
       "\n",
       "    .dataframe tbody tr th {\n",
       "        vertical-align: top;\n",
       "    }\n",
       "\n",
       "    .dataframe thead th {\n",
       "        text-align: right;\n",
       "    }\n",
       "</style>\n",
       "<table border=\"1\" class=\"dataframe\">\n",
       "  <thead>\n",
       "    <tr style=\"text-align: right;\">\n",
       "      <th></th>\n",
       "      <th>overall</th>\n",
       "      <th>verified</th>\n",
       "      <th>reviewTime</th>\n",
       "      <th>reviewerID</th>\n",
       "      <th>asin</th>\n",
       "      <th>reviewerName</th>\n",
       "      <th>reviewText</th>\n",
       "      <th>summary</th>\n",
       "      <th>unixReviewTime</th>\n",
       "      <th>vote</th>\n",
       "      <th>style</th>\n",
       "      <th>image</th>\n",
       "    </tr>\n",
       "  </thead>\n",
       "  <tbody>\n",
       "    <tr>\n",
       "      <th>0</th>\n",
       "      <td>5.0</td>\n",
       "      <td>True</td>\n",
       "      <td>10 17, 2015</td>\n",
       "      <td>A1HP7NVNPFMA4N</td>\n",
       "      <td>0700026657</td>\n",
       "      <td>Ambrosia075</td>\n",
       "      <td>This game is a bit hard to get the hang of, bu...</td>\n",
       "      <td>but when you do it's great.</td>\n",
       "      <td>1445040000</td>\n",
       "      <td>NaN</td>\n",
       "      <td>NaN</td>\n",
       "      <td>NaN</td>\n",
       "    </tr>\n",
       "    <tr>\n",
       "      <th>1</th>\n",
       "      <td>4.0</td>\n",
       "      <td>False</td>\n",
       "      <td>07 27, 2015</td>\n",
       "      <td>A1JGAP0185YJI6</td>\n",
       "      <td>0700026657</td>\n",
       "      <td>travis</td>\n",
       "      <td>I played it a while but it was alright. The st...</td>\n",
       "      <td>But in spite of that it was fun, I liked it</td>\n",
       "      <td>1437955200</td>\n",
       "      <td>NaN</td>\n",
       "      <td>NaN</td>\n",
       "      <td>NaN</td>\n",
       "    </tr>\n",
       "  </tbody>\n",
       "</table>\n",
       "</div>"
      ],
      "text/plain": [
       "   overall  verified   reviewTime      reviewerID        asin reviewerName  \\\n",
       "0      5.0      True  10 17, 2015  A1HP7NVNPFMA4N  0700026657  Ambrosia075   \n",
       "1      4.0     False  07 27, 2015  A1JGAP0185YJI6  0700026657       travis   \n",
       "\n",
       "                                          reviewText  \\\n",
       "0  This game is a bit hard to get the hang of, bu...   \n",
       "1  I played it a while but it was alright. The st...   \n",
       "\n",
       "                                       summary  unixReviewTime vote style  \\\n",
       "0                  but when you do it's great.      1445040000  NaN   NaN   \n",
       "1  But in spite of that it was fun, I liked it      1437955200  NaN   NaN   \n",
       "\n",
       "  image  \n",
       "0   NaN  \n",
       "1   NaN  "
      ]
     },
     "execution_count": 3,
     "metadata": {},
     "output_type": "execute_result"
    }
   ],
   "source": [
    "df_raw = pd.DataFrame(data)\n",
    "df_raw.head(2)"
   ]
  },
  {
   "cell_type": "markdown",
   "metadata": {},
   "source": [
    "## <center>A Pinch of Salt?</center> "
   ]
  },
  {
   "cell_type": "markdown",
   "metadata": {},
   "source": [
    "Unscrupulous sellers are using a range of tactics to evade detection on Amazon and mislead shoppers with fake reviews, a Which? investigation has revealed. After analysing thousands of reviews across hundreds of products, evidence emerged of exactly how Amazon sellers have found intricate ways to ‘game’ the system. \n",
    "\n",
    "We found: Products with hundreds of ‘variations’, being used to create large numbers of positive reviews. Old products whose positive reviews were being used to promote new, unrelated products. Facebook review groups are ‘back’: tens of thousands populate a Facebook community of incentivised reviewers, posting hundreds of products per hour. Amazon customers whose user accounts have been hacked and used to publish thousands of fake reviews.\n",
    "\n",
    "Read more: https://www.which.co.uk/news/2019/07/exposed-the-tricks-sellers-use-to-post-fake-reviews-on-amazon/ - Which?"
   ]
  },
  {
   "cell_type": "code",
   "execution_count": 4,
   "metadata": {},
   "outputs": [],
   "source": [
    "# prep total counts \n",
    "df_total = df_raw.groupby('overall').size().reset_index(name='counts')\n",
    "df_total['overall'] = df_total['overall'].astype('int')\n",
    "\n",
    "# prep verified total counts\n",
    "df_verified = df_raw[df_raw['verified'] == True]\n",
    "df_verified = df_verified.groupby('overall').size().reset_index(name='counts')\n",
    "df_verified['verified_counts'] = df_verified['counts'] \n",
    "df_verified = df_verified.drop('counts', axis=1)\n",
    "df_verified['overall'] = df_verified['overall'].astype('int')\n",
    "\n",
    "# join verified and total counts\n",
    "df = pd.merge(df_total, df_verified, how='left', on='overall')"
   ]
  },
  {
   "cell_type": "code",
   "execution_count": 5,
   "metadata": {},
   "outputs": [
    {
     "data": {
      "image/png": "[encoded data removed]",
      "text/plain": [
       "<Figure size 1080x1080 with 1 Axes>"
      ]
     },
     "metadata": {},
     "output_type": "display_data"
    }
   ],
   "source": [
    "sns.set(style=\"whitegrid\")\n",
    "\n",
    "# Initialize the matplotlib figure\n",
    "f, ax = plt.subplots(figsize=(15, 15))\n",
    "\n",
    "# Plot the total reviews\n",
    "sns.set_color_codes(\"pastel\")\n",
    "sns.barplot(x=\"counts\", y=\"overall\", data=df,\n",
    "            label=\"Total\", color=\"b\", orient='h')\n",
    "\n",
    "# Plot the crashes where alcohol was involved\n",
    "sns.set_color_codes(\"muted\")\n",
    "sns.barplot(x=\"verified_counts\", y=\"overall\", data=df,\n",
    "            label=\"Verified\", color=\"b\", orient='h')\n",
    "\n",
    "# Add a legend and informative axis label\n",
    "ax.legend(ncol=2, loc=\"upper right\", frameon=True)\n",
    "ax.set(ylabel=\"Stars\",\n",
    "       xlabel=\"Number of Reviews\",\n",
    "       xlim=(0, 300000))\n",
    "sns.despine(left=True, bottom=True)"
   ]
  },
  {
   "cell_type": "code",
   "execution_count": 6,
   "metadata": {},
   "outputs": [
    {
     "name": "stdout",
     "output_type": "stream",
     "text": [
      "   overall  counts  verified_counts % of total reviews % verified\n",
      "0        1   30883            15202              6.21%     49.22%\n",
      "1        2   24135            12120              4.85%     50.22%\n",
      "2        3   49146            27978              9.88%     56.93%\n",
      "3        4   93654            54886             18.82%     58.61%\n",
      "4        5  299759           222459             60.24%     74.21%\n"
     ]
    }
   ],
   "source": [
    "df['% of total reviews'] = ((df['counts'] / df['counts'].sum())*100).round(2).astype(str) + '%'\n",
    "df['% verified'] = ((df['verified_counts'] / df['counts'])*100).round(2).astype(str) + '%'\n",
    "print(df)"
   ]
  },
  {
   "cell_type": "markdown",
   "metadata": {},
   "source": [
    "From the above analysis it is apparent that four/five star reviews make-up a large proportion of the reviews in this data and the majority of these reviews are verified. "
   ]
  },
  {
   "cell_type": "code",
   "execution_count": 7,
   "metadata": {},
   "outputs": [
    {
     "data": {
      "image/png": "[encoded data removed]",
      "text/plain": [
       "<Figure size 1080x576 with 1 Axes>"
      ]
     },
     "metadata": {},
     "output_type": "display_data"
    }
   ],
   "source": [
    "f, ax = plt.subplots(figsize=(15, 8))\n",
    "with sns.color_palette(\"GnBu_d\"):\n",
    "\n",
    "\n",
    "# Show each distribution with both violins and points\n",
    "    sns.violinplot(x=\"verified\", y=\"overall\",data=df_raw, palette=\"GnBu_d\", inner=\"box\", bw =.2, cut=2, linewidth=3, orient='v')\n",
    "\n",
    "    sns.despine(left=True)\n",
    "\n",
    "    f.suptitle('Reviews by Number of Stars', fontsize=18, fontweight='bold')\n",
    "    ax.set_xlabel(\"Verified\",size = 16,alpha=0.7)\n",
    "    ax.set_ylabel(\"Stars\",size = 16,alpha=0.7)"
   ]
  },
  {
   "cell_type": "markdown",
   "metadata": {},
   "source": [
    "These violin plots show the relationship of unverified/verified reviews to number of stars. \n",
    "\n",
    "* the white dot represents the median.\n",
    "\n",
    "* the thick black bar in the center represents the interquartile range.\n",
    "\n",
    "* the thin black line represents the rest of the distribution, except for points that are determined to be “outliers” using a method that is a function of the interquartile range.\n",
    "\n",
    "* On each side of the black line is a kernel density estimation to show the distribution shape of the data. Wider sections of the violin plot represent a higher probability that members of the population will take on the given value; the skinnier sections represent a lower probability."
   ]
  },
  {
   "cell_type": "markdown",
   "metadata": {},
   "source": [
    "The results for verified reviews are:\n",
    "\n",
    "* the median is 5 stars.\n",
    "* the IQR is 1 star. \n",
    "* the range is 3 to 5 stars.\n",
    "* very high probability that a review will have 5 stars overall. "
   ]
  },
  {
   "cell_type": "markdown",
   "metadata": {},
   "source": [
    "The results for unverified reviews are:\n",
    "\n",
    "* the median is 4 stars.\n",
    "* the IQR is 2 stars. \n",
    "* the range is 1 to 5 stars.\n",
    "* high probability that a review will have 5 stars overall. "
   ]
  },
  {
   "cell_type": "markdown",
   "metadata": {},
   "source": [
    "## <center>bigger representative corpus</center> "
   ]
  },
  {
   "cell_type": "code",
   "execution_count": 8,
   "metadata": {},
   "outputs": [
    {
     "data": {
      "text/html": [
       "<div>\n",
       "<style scoped>\n",
       "    .dataframe tbody tr th:only-of-type {\n",
       "        vertical-align: middle;\n",
       "    }\n",
       "\n",
       "    .dataframe tbody tr th {\n",
       "        vertical-align: top;\n",
       "    }\n",
       "\n",
       "    .dataframe thead th {\n",
       "        text-align: right;\n",
       "    }\n",
       "</style>\n",
       "<table border=\"1\" class=\"dataframe\">\n",
       "  <thead>\n",
       "    <tr style=\"text-align: right;\">\n",
       "      <th></th>\n",
       "      <th>ratings</th>\n",
       "      <th>reviews</th>\n",
       "    </tr>\n",
       "  </thead>\n",
       "  <tbody>\n",
       "    <tr>\n",
       "      <th>15795</th>\n",
       "      <td>5.0</td>\n",
       "      <td>Arrived on time and grandkids love playing</td>\n",
       "    </tr>\n",
       "    <tr>\n",
       "      <th>860</th>\n",
       "      <td>3.0</td>\n",
       "      <td>great game.</td>\n",
       "    </tr>\n",
       "    <tr>\n",
       "      <th>76820</th>\n",
       "      <td>5.0</td>\n",
       "      <td>MGS3 is the best of the series and it's not re...</td>\n",
       "    </tr>\n",
       "    <tr>\n",
       "      <th>54886</th>\n",
       "      <td>5.0</td>\n",
       "      <td>This is without question the best controller I...</td>\n",
       "    </tr>\n",
       "    <tr>\n",
       "      <th>6265</th>\n",
       "      <td>1.0</td>\n",
       "      <td>The way the light/magnifier is mounted on the ...</td>\n",
       "    </tr>\n",
       "    <tr>\n",
       "      <th>...</th>\n",
       "      <td>...</td>\n",
       "      <td>...</td>\n",
       "    </tr>\n",
       "    <tr>\n",
       "      <th>57885</th>\n",
       "      <td>5.0</td>\n",
       "      <td>this was the greatest game!!  the sound effect...</td>\n",
       "    </tr>\n",
       "    <tr>\n",
       "      <th>50577</th>\n",
       "      <td>5.0</td>\n",
       "      <td>First of all, I know how most games in this ty...</td>\n",
       "    </tr>\n",
       "    <tr>\n",
       "      <th>87556</th>\n",
       "      <td>4.0</td>\n",
       "      <td>I like the terrorist hunt mode either single p...</td>\n",
       "    </tr>\n",
       "    <tr>\n",
       "      <th>12117</th>\n",
       "      <td>5.0</td>\n",
       "      <td>A blast from the past. I went through two copi...</td>\n",
       "    </tr>\n",
       "    <tr>\n",
       "      <th>10860</th>\n",
       "      <td>5.0</td>\n",
       "      <td>This game...my uncle rented it for me and my c...</td>\n",
       "    </tr>\n",
       "  </tbody>\n",
       "</table>\n",
       "<p>100000 rows × 2 columns</p>\n",
       "</div>"
      ],
      "text/plain": [
       "       ratings                                            reviews\n",
       "15795      5.0         Arrived on time and grandkids love playing\n",
       "860        3.0                                        great game.\n",
       "76820      5.0  MGS3 is the best of the series and it's not re...\n",
       "54886      5.0  This is without question the best controller I...\n",
       "6265       1.0  The way the light/magnifier is mounted on the ...\n",
       "...        ...                                                ...\n",
       "57885      5.0  this was the greatest game!!  the sound effect...\n",
       "50577      5.0  First of all, I know how most games in this ty...\n",
       "87556      4.0  I like the terrorist hunt mode either single p...\n",
       "12117      5.0  A blast from the past. I went through two copi...\n",
       "10860      5.0  This game...my uncle rented it for me and my c...\n",
       "\n",
       "[100000 rows x 2 columns]"
      ]
     },
     "execution_count": 8,
     "metadata": {},
     "output_type": "execute_result"
    }
   ],
   "source": [
    "np.random.seed(42)\n",
    "df_bigger_representative_corpus = df_raw.copy()\n",
    "df_bigger_representative_corpus = df_bigger_representative_corpus[['overall', 'reviewText']]\n",
    "df_bigger_representative_corpus = df_bigger_representative_corpus.rename(columns={'overall':'ratings', 'reviewText':'reviews'})\n",
    "df_bigger_representative_corpus.iloc[[np.random.randint(100000) for _ in range(100000)]]"
   ]
  },
  {
   "cell_type": "code",
   "execution_count": 9,
   "metadata": {},
   "outputs": [],
   "source": [
    "df_bigger_representative_corpus.to_csv('big_corpus.csv')"
   ]
  },
  {
   "cell_type": "markdown",
   "metadata": {},
   "source": [
    "## <center>smaller balanced corpus</center> "
   ]
  },
  {
   "cell_type": "code",
   "execution_count": 10,
   "metadata": {},
   "outputs": [],
   "source": [
    "np.random.seed(42)\n",
    "\n",
    "rus = RandomUnderSampler(sampling_strategy={1:1500,2:500,3:500,4:500, 5:1500},\n",
    "                        random_state=42)"
   ]
  },
  {
   "cell_type": "code",
   "execution_count": 11,
   "metadata": {},
   "outputs": [],
   "source": [
    "def resample(df, method):\n",
    "    \"\"\"Resamples df using method with .fit_resample()\n",
    "    \n",
    "    Args:\n",
    "        df (DataFrame) Amazon review data\n",
    "        method (object): resample with .fit_resample() method\n",
    "    Returns:\n",
    "            Resampled_df (DataFrame): Resampled DataFrame\n",
    "            \n",
    "    \"\"\"\n",
    "    processed_df = df\n",
    "    target = processed_df.pop('overall')\n",
    "    \n",
    "    processed_x, processed_y = method.fit_resample(processed_df, target)\n",
    "    \n",
    "    cols = list(processed_df.columns) + ['overall']\n",
    "    \n",
    "    pdf_x = pd.DataFrame(processed_x, columns=processed_df.columns)\n",
    "    pdf_y = pd.DataFrame(processed_y, columns=['overall'])\n",
    "    resampled_df = pd.concat([pdf_x, pdf_y], axis=1)\n",
    "    \n",
    "    return resampled_df "
   ]
  },
  {
   "cell_type": "code",
   "execution_count": 12,
   "metadata": {},
   "outputs": [
    {
     "name": "stdout",
     "output_type": "stream",
     "text": [
      "(4500, 12)\n",
      "5.0    1500\n",
      "1.0    1500\n",
      "4.0     500\n",
      "3.0     500\n",
      "2.0     500\n",
      "Name: overall, dtype: int64\n"
     ]
    }
   ],
   "source": [
    "rus_resampled = resample(df_raw, rus)\n",
    "df_smaller_balanced_corpus = rus_resampled\n",
    "print(df_smaller_balanced_corpus.shape)\n",
    "print(df_smaller_balanced_corpus.overall.value_counts())"
   ]
  },
  {
   "cell_type": "code",
   "execution_count": 13,
   "metadata": {},
   "outputs": [
    {
     "data": {
      "text/html": [
       "<div>\n",
       "<style scoped>\n",
       "    .dataframe tbody tr th:only-of-type {\n",
       "        vertical-align: middle;\n",
       "    }\n",
       "\n",
       "    .dataframe tbody tr th {\n",
       "        vertical-align: top;\n",
       "    }\n",
       "\n",
       "    .dataframe thead th {\n",
       "        text-align: right;\n",
       "    }\n",
       "</style>\n",
       "<table border=\"1\" class=\"dataframe\">\n",
       "  <thead>\n",
       "    <tr style=\"text-align: right;\">\n",
       "      <th></th>\n",
       "      <th>ratings</th>\n",
       "      <th>reviews</th>\n",
       "    </tr>\n",
       "  </thead>\n",
       "  <tbody>\n",
       "    <tr>\n",
       "      <th>0</th>\n",
       "      <td>1.0</td>\n",
       "      <td>Recently UBISOFT had to settle a huge class-ac...</td>\n",
       "    </tr>\n",
       "    <tr>\n",
       "      <th>1</th>\n",
       "      <td>1.0</td>\n",
       "      <td>code didn't work, got me a refund.</td>\n",
       "    </tr>\n",
       "    <tr>\n",
       "      <th>2</th>\n",
       "      <td>1.0</td>\n",
       "      <td>these do not work at all, all i get is static ...</td>\n",
       "    </tr>\n",
       "    <tr>\n",
       "      <th>3</th>\n",
       "      <td>1.0</td>\n",
       "      <td>well let me start by saying that when i first ...</td>\n",
       "    </tr>\n",
       "    <tr>\n",
       "      <th>4</th>\n",
       "      <td>1.0</td>\n",
       "      <td>Dont waste your money, you will just end up us...</td>\n",
       "    </tr>\n",
       "    <tr>\n",
       "      <th>...</th>\n",
       "      <td>...</td>\n",
       "      <td>...</td>\n",
       "    </tr>\n",
       "    <tr>\n",
       "      <th>4495</th>\n",
       "      <td>5.0</td>\n",
       "      <td>Nice long micro USB cable, battery lasts a lon...</td>\n",
       "    </tr>\n",
       "    <tr>\n",
       "      <th>4496</th>\n",
       "      <td>5.0</td>\n",
       "      <td>I've been having a great time with this game. ...</td>\n",
       "    </tr>\n",
       "    <tr>\n",
       "      <th>4497</th>\n",
       "      <td>5.0</td>\n",
       "      <td>d</td>\n",
       "    </tr>\n",
       "    <tr>\n",
       "      <th>4498</th>\n",
       "      <td>5.0</td>\n",
       "      <td>Really pretty, funny, interesting game. Works ...</td>\n",
       "    </tr>\n",
       "    <tr>\n",
       "      <th>4499</th>\n",
       "      <td>5.0</td>\n",
       "      <td>i had a lot of fun playing this game, if your ...</td>\n",
       "    </tr>\n",
       "  </tbody>\n",
       "</table>\n",
       "<p>4500 rows × 2 columns</p>\n",
       "</div>"
      ],
      "text/plain": [
       "      ratings                                            reviews\n",
       "0         1.0  Recently UBISOFT had to settle a huge class-ac...\n",
       "1         1.0                 code didn't work, got me a refund.\n",
       "2         1.0  these do not work at all, all i get is static ...\n",
       "3         1.0  well let me start by saying that when i first ...\n",
       "4         1.0  Dont waste your money, you will just end up us...\n",
       "...       ...                                                ...\n",
       "4495      5.0  Nice long micro USB cable, battery lasts a lon...\n",
       "4496      5.0  I've been having a great time with this game. ...\n",
       "4497      5.0                                                  d\n",
       "4498      5.0  Really pretty, funny, interesting game. Works ...\n",
       "4499      5.0  i had a lot of fun playing this game, if your ...\n",
       "\n",
       "[4500 rows x 2 columns]"
      ]
     },
     "execution_count": 13,
     "metadata": {},
     "output_type": "execute_result"
    }
   ],
   "source": [
    "df_smaller_balanced_corpus = df_smaller_balanced_corpus[['overall', 'reviewText']]\n",
    "df_smaller_balanced_corpus = df_smaller_balanced_corpus.rename(columns={'overall':'ratings', 'reviewText':'reviews'})\n",
    "df_smaller_balanced_corpus"
   ]
  },
  {
   "cell_type": "code",
   "execution_count": 14,
   "metadata": {},
   "outputs": [],
   "source": [
    "df_smaller_balanced_corpus.to_csv('small_corpus.csv')"
   ]
  },
  {
   "cell_type": "code",
   "execution_count": null,
   "metadata": {},
   "outputs": [],
   "source": []
  }
 ],
 "metadata": {
  "kernelspec": {
   "display_name": "growth_hacking",
   "language": "python",
   "name": "growth_hacking"
  },
  "language_info": {
   "codemirror_mode": {
    "name": "ipython",
    "version": 3
   },
   "file_extension": ".py",
   "mimetype": "text/x-python",
   "name": "python",
   "nbconvert_exporter": "python",
   "pygments_lexer": "ipython3",
   "version": "3.7.6"
  }
 },
 "nbformat": 4,
 "nbformat_minor": 4
}
